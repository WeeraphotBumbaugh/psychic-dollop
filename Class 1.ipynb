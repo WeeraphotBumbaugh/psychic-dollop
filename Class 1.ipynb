{
 "cells": [
  {
   "cell_type": "code",
   "execution_count": 2,
   "id": "82086b49",
   "metadata": {},
   "outputs": [
    {
     "name": "stdout",
     "output_type": "stream",
     "text": [
      "h\n",
      "e\n",
      "l\n",
      "l\n",
      "o\n",
      ",\n",
      " \n",
      "w\n",
      "o\n",
      "r\n",
      "l\n",
      "d\n"
     ]
    }
   ],
   "source": [
    "for letter in \"hello, world\":\n",
    "    print(letter)"
   ]
  },
  {
   "cell_type": "markdown",
   "id": "af4c4244",
   "metadata": {},
   "source": [
    "# Anagram checker\n",
    "\n",
    "Given two strings, create a function that determines if these are anagrams of each other.\n",
    "Your function should return `True` if these are anagrams of each other, `False`otherwise.\n",
    "\n",
    "*Criteria*\n",
    "1. Two strings are anagrams of each other if, and only if:\n",
    "1.1. They use all the same letters the same amount of times.\n",
    "1.2 They are exactly the same length.\n",
    "2. Your function should be called `anagram_check` and must receive two parameters (strings).\n",
    "```\n",
    "Example:\n",
    "heart and earth\n",
    "cars and scar\n",
    "star and rats\n",
    "```"
   ]
  },
  {
   "cell_type": "markdown",
   "id": "1e09cef8",
   "metadata": {},
   "source": [
    "Case insensitive. Letters + numbers. Spaces do not contribute to total count"
   ]
  },
  {
   "cell_type": "markdown",
   "id": "f5b81b59",
   "metadata": {},
   "source": [
    "Create the function anagram_check\n",
    "Join each string individually incase of spaces\n",
    "Check if length len() of string1 == length of string2\n",
    "Return false if not equal\n",
    "Make all characters lowercase\n",
    "Declare variable for ascii code for both strings\n",
    "Iterate through each string (ord()) to get ascii code\n",
    "Append each ascii code to variable above\n",
    "Sort variable.\n",
    "Compare list of ascii code of each string\n",
    "If equal, return True"
   ]
  },
  {
   "cell_type": "code",
   "execution_count": null,
   "id": "b3561a3e",
   "metadata": {},
   "outputs": [],
   "source": []
  }
 ],
 "metadata": {
  "kernelspec": {
   "display_name": "Python 3 (ipykernel)",
   "language": "python",
   "name": "python3"
  },
  "language_info": {
   "codemirror_mode": {
    "name": "ipython",
    "version": 3
   },
   "file_extension": ".py",
   "mimetype": "text/x-python",
   "name": "python",
   "nbconvert_exporter": "python",
   "pygments_lexer": "ipython3",
   "version": "3.10.6"
  }
 },
 "nbformat": 4,
 "nbformat_minor": 5
}
