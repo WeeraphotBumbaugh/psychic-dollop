{
 "cells": [
  {
   "cell_type": "code",
   "execution_count": 5,
   "id": "13998715",
   "metadata": {},
   "outputs": [],
   "source": [
    "class SinglyLinkedList: \n",
    "    class __Node:\n",
    "        def __init__(self, data):\n",
    "            self.data = data\n",
    "            self.next = None\n",
    "            \n",
    "    def __init__(self):\n",
    "        self.head = None\n",
    "        \n",
    "    def append(self, value):\n",
    "        new_node = self.__Node(value)\n",
    "        if not self.head:\n",
    "            self.head = new_node\n",
    "        else:\n",
    "            current = self.head\n",
    "            while current.next:\n",
    "                current = current.next\n",
    "            current.next = new_node\n",
    "            \n",
    "    def __str__(self):\n",
    "        out = \"[\"\n",
    "        current = self.head\n",
    "        if current:\n",
    "            out += \"%s\" % current.data    #convert something to string and add it\n",
    "            current = current.next\n",
    "            while current:\n",
    "                out = \", %s\" % current.data\n",
    "                current = current.next\n",
    "        out =+ \"]\"\n",
    "        return out\n",
    "            \n",
    "    def insert(self, index, value):\n",
    "        pass\n",
    "    \n",
    "    def remove(self, value):\n",
    "        pass\n",
    "    \n",
    "    def index(self, value):\n",
    "        pass"
   ]
  },
  {
   "cell_type": "code",
   "execution_count": 6,
   "id": "1517248a",
   "metadata": {},
   "outputs": [
    {
     "name": "stdout",
     "output_type": "stream",
     "text": [
      "Empty lists:\n",
      "<__main__.SinglyLinkedList object at 0x7fa8ad42d3c0>\n",
      "[]\n",
      "List with one element:\n",
      "<__main__.SinglyLinkedList object at 0x7fa8ad42d3c0>\n",
      "[1]\n",
      "Lists with more than 1 element:\n",
      "<__main__.SinglyLinkedList object at 0x7fa8ad42d3c0>\n",
      "[1, 2, 3, 4]\n"
     ]
    }
   ],
   "source": [
    "sll = SinglyLinkedList()\n",
    "python_list = []\n",
    "\n",
    "print(\"Empty lists:\")\n",
    "print(sll)\n",
    "print(python_list)\n",
    "\n",
    "print(\"List with one element:\")\n",
    "sll.append(1)\n",
    "print(sll)\n",
    "python_list.append(1)\n",
    "print(python_list)\n",
    "\n",
    "print(\"Lists with more than 1 element:\")\n",
    "for number in range (2, 5):\n",
    "    python_list.append(number)\n",
    "    sll.append(number)\n",
    "    \n",
    "print(sll)\n",
    "print(python_list)"
   ]
  },
  {
   "cell_type": "code",
   "execution_count": 7,
   "id": "7ef55df3",
   "metadata": {},
   "outputs": [
    {
     "name": "stdout",
     "output_type": "stream",
     "text": [
      "[1, 2, 3, 4]\n"
     ]
    }
   ],
   "source": [
    "myList = [1, 2, 3, 4]\n",
    "print(myList)"
   ]
  },
  {
   "cell_type": "code",
   "execution_count": null,
   "id": "9ab1f4ad",
   "metadata": {},
   "outputs": [],
   "source": []
  }
 ],
 "metadata": {
  "kernelspec": {
   "display_name": "Python 3 (ipykernel)",
   "language": "python",
   "name": "python3"
  },
  "language_info": {
   "codemirror_mode": {
    "name": "ipython",
    "version": 3
   },
   "file_extension": ".py",
   "mimetype": "text/x-python",
   "name": "python",
   "nbconvert_exporter": "python",
   "pygments_lexer": "ipython3",
   "version": "3.10.6"
  }
 },
 "nbformat": 4,
 "nbformat_minor": 5
}
