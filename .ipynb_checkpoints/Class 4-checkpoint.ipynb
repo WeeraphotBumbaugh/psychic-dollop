{
 "cells": [
  {
   "cell_type": "code",
   "execution_count": 33,
   "id": "dc606212",
   "metadata": {},
   "outputs": [],
   "source": [
    "class DoublyLinkedList:\n",
    "    class __Node:\n",
    "        def __init__(self, data):\n",
    "            self.data = data\n",
    "            self.next = None\n",
    "            self.prev = None\n",
    "        \n",
    "    def __init__(self):\n",
    "        self.head = None\n",
    "        \n",
    "        \n",
    "    def append(self, element):\n",
    "        new_node = self.__Node(element)\n",
    "        if not self.head:\n",
    "            self.head = new_node\n",
    "        else:\n",
    "            current = self.head\n",
    "            while current.next:\n",
    "                current = current.next\n",
    "            current.next = new_node\n",
    "            new_node.prev = current\n",
    "    \n",
    "    \n",
    "    def insert(self, index, element):\n",
    "        if index < 0:\n",
    "            raise ValueError(\"Invalid index\")\n",
    "        \n",
    "        new_node = self.__Node(element)\n",
    "        \n",
    "        if index == 0:\n",
    "            new_node.next = self.head\n",
    "            self.head = new_node\n",
    "        else:\n",
    "            current = self.head\n",
    "            conter = 0\n",
    "            while current and index != counter:\n",
    "                previous = current\n",
    "                current = current.next\n",
    "                counter += 1\n",
    "        \n",
    "        new_node.next = current\n",
    "        previous.next = new_node\n",
    "        new_node.prev = previous\n",
    "        current.prev = new_node\n",
    "    \n",
    "    \n",
    "    def remove(self, element):\n",
    "        if not self.head:\n",
    "            raise ValueError(\"List is empty\")\n",
    "        if self.head.data == element:\n",
    "            self.head = self.head.next\n",
    "        else:\n",
    "            current = self.head\n",
    "            while current:\n",
    "                if current.data == element:\n",
    "                    previous.next = current.next\n",
    "                    current.next.prev = previous\n",
    "                else:\n",
    "                    previous = current\n",
    "                    current = current.next\n",
    "                    \n",
    "            raise ValueError(\"Element not found in list\")"
   ]
  },
  {
   "cell_type": "markdown",
   "id": "25a53016",
   "metadata": {},
   "source": [
    "# Pseudocode for append (method)\n",
    "\n",
    "Define method append with parameter element:\n",
    "    new_node = new Node instance with \"element\" as data\n",
    "    if self.head is set to None:\n",
    "        then set self.head to new_node\n",
    "    else:\n",
    "        current = self.head\n",
    "        loop until no next node\n",
    "        do:\n",
    "            current = current.next\n",
    "        while current.next is not None\n",
    "            current.next = new_node\n",
    "            new_node.prev = current"
   ]
  },
  {
   "cell_type": "markdown",
   "id": "814a71c5",
   "metadata": {},
   "source": [
    "# Pseudocode for insert (method)\n",
    "Define method insert with parameter index and element\n",
    "    if index is less than 0:\n",
    "        raise ValueError \"invalid index\"\n",
    "    new_node = new Node instance with element as data\n",
    "    if index is equal to 0\n",
    "        new_node.next = self.head\n",
    "        self.head = new_node\n",
    "    else\n",
    "        current = self.head\n",
    "        counter = 0\n",
    "        while current and index != counter:\n",
    "            self.prev = current\n",
    "            current = current.next\n",
    "            counter += 1\n",
    "    new_node.next = current\n",
    "    self.prev = new_node"
   ]
  },
  {
   "cell_type": "markdown",
   "id": "7c62afba",
   "metadata": {},
   "source": [
    "# Pseudocode for remove (method)\n",
    "Define method remove with parameter element\n",
    "    if nothing in self.head\n",
    "        raise error \"list is empty\"\n",
    "    if self.head.data == element:\n",
    "        self.head = self.head.next\n",
    "    else:\n",
    "        current = self.head\n",
    "        while current:\n",
    "            if current.data == element:\n",
    "                self.prev = current.next\n",
    "            else:\n",
    "                self.prev = current\n",
    "                current = current.next\n",
    "        raise error \"value not found\""
   ]
  },
  {
   "cell_type": "code",
   "execution_count": 39,
   "id": "7b748ab0",
   "metadata": {},
   "outputs": [
    {
     "name": "stdout",
     "output_type": "stream",
     "text": [
      "<__main__.DoublyLinkedList object at 0x7f160c51cac0>\n"
     ]
    }
   ],
   "source": [
    "dll = DoublyLinkedList()\n",
    "print(dll)"
   ]
  },
  {
   "cell_type": "code",
   "execution_count": 44,
   "id": "53b0e108",
   "metadata": {},
   "outputs": [],
   "source": [
    "def factorial(num):\n",
    "    if num == 0:\n",
    "        return 1\n",
    "    return num*fact(num-1)"
   ]
  },
  {
   "cell_type": "code",
   "execution_count": 45,
   "id": "769f9e0d",
   "metadata": {},
   "outputs": [
    {
     "data": {
      "text/plain": [
       "6"
      ]
     },
     "execution_count": 45,
     "metadata": {},
     "output_type": "execute_result"
    }
   ],
   "source": [
    "factorial(3)"
   ]
  },
  {
   "cell_type": "code",
   "execution_count": 4,
   "id": "d4c93879",
   "metadata": {},
   "outputs": [
    {
     "data": {
      "text/plain": [
       "5"
      ]
     },
     "execution_count": 4,
     "metadata": {},
     "output_type": "execute_result"
    }
   ],
   "source": [
    "from functools import lru_cache\n",
    "\n",
    "@lru_cache\n",
    "def fib(num):\n",
    "    if num < 2:\n",
    "        return num\n",
    "    return fib(num-1) + fib(num-2)\n",
    "\n",
    "fib(5)"
   ]
  },
  {
   "cell_type": "code",
   "execution_count": 6,
   "id": "e38f9d26",
   "metadata": {},
   "outputs": [],
   "source": [
    "class HashTable:\n",
    "    def __init__(self, size):\n",
    "        self.size = size\n",
    "        self.slots = [None] * self.size\n",
    "        self.data = [None] * self.size\n",
    "    \n",
    "    def put(self, key, data):\n",
    "        hashvalue = self.hashfunction(key, len(self.slots))\n",
    "        if self.slots[hashvalue] == None:\n",
    "            self.slots[hashvalue] = key\n",
    "            self.data[hashvalue] = data\n",
    "        else:\n",
    "            if self.slots[hashvalue] == key:\n",
    "                self.data[hashvalue] = data\n",
    "            else:\n",
    "                nextslot = self.rehash(hashvalue, len(self.slots))\n",
    "                while self.slots[nextslot] != None and self.slots[nextslot] != key:\n",
    "                    nextslot = self.rehash(nextslot, len(self.slots))\n",
    "                if self.slots[nextslot] == None:\n",
    "                    self.slots[nextslot] = key\n",
    "                    self.data[nextslot] = data\n",
    "                else:\n",
    "                    self.data[nextslot] = data\n",
    "                    \n",
    "    def hashfunction(self, key, size):\n",
    "        return key%size\n",
    "    \n",
    "    def rehash(self, oldhash, size):\n",
    "        return (oldhash+1)%size\n",
    "    \n",
    "    def get(self, key):\n",
    "        startslot = self.hashfunction(key, len(self.slots))\n",
    "        data = None\n",
    "        stop = False\n",
    "        found = False\n",
    "        position = startslot\n",
    "        \n",
    "        while self.slots[position] != None and not found and not stop:\n",
    "            if self.slots[position] == key:\n",
    "                found = True\n",
    "                data = self.data[position]\n",
    "            else:\n",
    "                position = self.rehash(position, len(self.slots))\n",
    "                if position == startslot:\n",
    "                    stop = True\n",
    "        return data\n",
    "    \n",
    "    # Nice to have dunder methods:\n",
    "    def __getitem__(self, key):\n",
    "        return self.get(key)\n",
    "    \n",
    "    def __setitem__(self, key, data):\n",
    "        self.put(key, data)"
   ]
  },
  {
   "cell_type": "code",
   "execution_count": null,
   "id": "c956156f",
   "metadata": {},
   "outputs": [],
   "source": []
  }
 ],
 "metadata": {
  "kernelspec": {
   "display_name": "Python 3 (ipykernel)",
   "language": "python",
   "name": "python3"
  },
  "language_info": {
   "codemirror_mode": {
    "name": "ipython",
    "version": 3
   },
   "file_extension": ".py",
   "mimetype": "text/x-python",
   "name": "python",
   "nbconvert_exporter": "python",
   "pygments_lexer": "ipython3",
   "version": "3.10.6"
  }
 },
 "nbformat": 4,
 "nbformat_minor": 5
}
