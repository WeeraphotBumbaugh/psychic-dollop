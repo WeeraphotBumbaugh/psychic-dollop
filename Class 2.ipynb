{
 "cells": [
  {
   "cell_type": "code",
   "execution_count": 1,
   "id": "55cf73b1",
   "metadata": {},
   "outputs": [],
   "source": [
    "class Stack:\n",
    "    def __init__(self):\n",
    "        self.items = []\n",
    "        \n",
    "    def push(self, element):\n",
    "        self.items.append(element)\n",
    "        \n",
    "    def pop(self):\n",
    "        return self.items.pop()\n",
    "    \n",
    "    # nice to have methods:\n",
    "    def size(self):\n",
    "        return len(self.items)\n",
    "    \n",
    "    def peek(self):\n",
    "        return self.items[len(self.items)-1]\n",
    "    \n",
    "    def is_empty(self):\n",
    "        return self.items == []"
   ]
  },
  {
   "cell_type": "markdown",
   "id": "cb473f76",
   "metadata": {},
   "source": [
    "# Mini Challenge 1\n",
    "Create a function that uses a stack (our stack class above) to invert a string.\n",
    "\n",
    "Your function must be called `invert_str` and receieve a single string as a parameter, then return that string in inverted order.\n",
    "\n",
    "``\n",
    "Examples:\n",
    "rats -> star\n",
    "cars -> srac\n",
    "``"
   ]
  },
  {
   "cell_type": "markdown",
   "id": "1f86f217",
   "metadata": {},
   "source": [
    "Define function called \"invert_str\" that takes a parameter\n",
    "Call Stack class, create new instance\n",
    "Define variable1 for storage\n",
    "For the length of the string\n",
    "Push each character to the stack\n",
    "While stack is not empty\n",
    "Pop each character of variable1\n",
    "Return variable1"
   ]
  },
  {
   "cell_type": "code",
   "execution_count": 7,
   "id": "5d32eec5",
   "metadata": {},
   "outputs": [
    {
     "ename": "AttributeError",
     "evalue": "'Stack' object has no attribute 'top'",
     "output_type": "error",
     "traceback": [
      "\u001b[0;31m---------------------------------------------------------------------------\u001b[0m",
      "\u001b[0;31mAttributeError\u001b[0m                            Traceback (most recent call last)",
      "Cell \u001b[0;32mIn[7], line 11\u001b[0m\n\u001b[1;32m      8\u001b[0m         var1 \u001b[38;5;241m+\u001b[39m\u001b[38;5;241m=\u001b[39m stack\u001b[38;5;241m.\u001b[39mpop()\n\u001b[1;32m      9\u001b[0m     \u001b[38;5;28;01mreturn\u001b[39;00m var1\n\u001b[0;32m---> 11\u001b[0m \u001b[43minvert_str\u001b[49m\u001b[43m(\u001b[49m\u001b[38;5;124;43m\"\u001b[39;49m\u001b[38;5;124;43mWeeraphot\u001b[39;49m\u001b[38;5;124;43m\"\u001b[39;49m\u001b[43m)\u001b[49m\n",
      "Cell \u001b[0;32mIn[7], line 5\u001b[0m, in \u001b[0;36minvert_str\u001b[0;34m(string)\u001b[0m\n\u001b[1;32m      3\u001b[0m var1 \u001b[38;5;241m=\u001b[39m \u001b[38;5;124m\"\u001b[39m\u001b[38;5;124m\"\u001b[39m\n\u001b[1;32m      4\u001b[0m \u001b[38;5;28;01mfor\u001b[39;00m char \u001b[38;5;129;01min\u001b[39;00m string:\n\u001b[0;32m----> 5\u001b[0m     \u001b[43mstack\u001b[49m\u001b[38;5;241;43m.\u001b[39;49m\u001b[43mpush\u001b[49m\u001b[43m(\u001b[49m\u001b[43mchar\u001b[49m\u001b[43m)\u001b[49m\n\u001b[1;32m      7\u001b[0m \u001b[38;5;28;01mwhile\u001b[39;00m \u001b[38;5;129;01mnot\u001b[39;00m stack\u001b[38;5;241m.\u001b[39mis_empty():\n\u001b[1;32m      8\u001b[0m     var1 \u001b[38;5;241m+\u001b[39m\u001b[38;5;241m=\u001b[39m stack\u001b[38;5;241m.\u001b[39mpop()\n",
      "Cell \u001b[0;32mIn[5], line 13\u001b[0m, in \u001b[0;36mStack.push\u001b[0;34m(self, element)\u001b[0m\n\u001b[1;32m     11\u001b[0m \u001b[38;5;28;01mdef\u001b[39;00m \u001b[38;5;21mpush\u001b[39m(\u001b[38;5;28mself\u001b[39m, element):\n\u001b[1;32m     12\u001b[0m     new_node \u001b[38;5;241m=\u001b[39m \u001b[38;5;28mself\u001b[39m\u001b[38;5;241m.\u001b[39m__Node(element)\n\u001b[0;32m---> 13\u001b[0m     \u001b[38;5;28;01mif\u001b[39;00m \u001b[38;5;129;01mnot\u001b[39;00m \u001b[38;5;28;43mself\u001b[39;49m\u001b[38;5;241;43m.\u001b[39;49m\u001b[43mtop\u001b[49m:\n\u001b[1;32m     14\u001b[0m         \u001b[38;5;28mself\u001b[39m\u001b[38;5;241m.\u001b[39mtop \u001b[38;5;241m=\u001b[39m new_node\n\u001b[1;32m     15\u001b[0m     \u001b[38;5;28;01melse\u001b[39;00m:\n",
      "\u001b[0;31mAttributeError\u001b[0m: 'Stack' object has no attribute 'top'"
     ]
    }
   ],
   "source": [
    "def invert_str(string):\n",
    "    stack = Stack()\n",
    "    var1 = \"\"\n",
    "    for char in string:\n",
    "        stack.push(char)\n",
    "        \n",
    "    while not stack.is_empty():\n",
    "        var1 += stack.pop()\n",
    "    return var1\n",
    "\n",
    "invert_str(\"Weeraphot\")"
   ]
  },
  {
   "cell_type": "code",
   "execution_count": 3,
   "id": "628633e2",
   "metadata": {},
   "outputs": [
    {
     "name": "stdout",
     "output_type": "stream",
     "text": [
      "6\n",
      "5\n"
     ]
    }
   ],
   "source": [
    "# Pass by value\n",
    "# Note: primary data types pass by value in python\n",
    "# Integers, float, and booleans\n",
    "x = 5\n",
    "y = x\n",
    "y = y + 1\n",
    "print(x)#\n",
    "print(y)"
   ]
  },
  {
   "cell_type": "code",
   "execution_count": 4,
   "id": "7d45f923",
   "metadata": {},
   "outputs": [
    {
     "name": "stdout",
     "output_type": "stream",
     "text": [
      "[1, 2, 3, 4]\n"
     ]
    }
   ],
   "source": [
    "# Pass by reference\n",
    "# Note: Every other data type in python passes by reference\n",
    "x = [1, 2, 3]\n",
    "y = x\n",
    "y.append(4)\n",
    "print(x)"
   ]
  },
  {
   "cell_type": "code",
   "execution_count": 8,
   "id": "4b2b0cff",
   "metadata": {},
   "outputs": [],
   "source": [
    "# Implementation that does not depend on build-in data structures\n",
    "\n",
    "class Stack:\n",
    "    class __Node:\n",
    "        def __init__(self, data):\n",
    "            self.data = data\n",
    "            self.below = None\n",
    "    def __init__(self):\n",
    "        self.top = None\n",
    "        \n",
    "    def push(self, element):\n",
    "        new_node = self.__Node(element)\n",
    "        if not self.top:\n",
    "            self.top = new_node\n",
    "        else:\n",
    "            new_node.below = self.top\n",
    "            self.top = new_node\n",
    "            \n",
    "    def pop(self):\n",
    "        if self.top:\n",
    "            element = self.top.data\n",
    "            self.top = self.top.below\n",
    "            return element\n",
    "        raise IndexError(\"Empty stack\")    \n",
    "        \n",
    "    def is_empty(self):\n",
    "        return self.top == None\n",
    "    \n",
    "    # Should return the total amount of elements in our stack\n",
    "    def size(self):\n",
    "        current = self.top\n",
    "        count = 0\n",
    "        while current:\n",
    "            count += 1\n",
    "            current = current.below\n",
    "        return count\n",
    "    \n",
    "    # Should return the value of the element at the top, without removing the node\n",
    "    def peek(self):\n",
    "        return self.top.data\n",
    "    \n",
    "    # Should return True if the element is in the stack, False otherwise\n",
    "    def search(self, element):\n",
    "        current = self.top\n",
    "        while current:\n",
    "            if element == current.data:\n",
    "                return True\n",
    "            current = current.below\n",
    "        return False"
   ]
  },
  {
   "cell_type": "code",
   "execution_count": 11,
   "id": "9d31e37b",
   "metadata": {},
   "outputs": [],
   "source": [
    "# Simplified implementation of queue relying on built-in data structures (list)\n",
    "\n",
    "class Queue:\n",
    "    def __init__(self):\n",
    "        self.items = []\n",
    "    \n",
    "    def enqueue(self, element):\n",
    "        self.items.insert(0, element)\n",
    "        \n",
    "    def dequeue(self):\n",
    "        return self.items.pop()\n",
    "    # Nice to have methods\n",
    "    def size(self):\n",
    "        return len(self.items)\n",
    "    \n",
    "    def peek(self):\n",
    "        return self.items[len(self.items)-1]\n",
    "    \n",
    "    def is_empty(self):\n",
    "        return self.items == []"
   ]
  },
  {
   "cell_type": "code",
   "execution_count": null,
   "id": "12484408",
   "metadata": {},
   "outputs": [],
   "source": []
  }
 ],
 "metadata": {
  "kernelspec": {
   "display_name": "Python 3 (ipykernel)",
   "language": "python",
   "name": "python3"
  },
  "language_info": {
   "codemirror_mode": {
    "name": "ipython",
    "version": 3
   },
   "file_extension": ".py",
   "mimetype": "text/x-python",
   "name": "python",
   "nbconvert_exporter": "python",
   "pygments_lexer": "ipython3",
   "version": "3.10.6"
  }
 },
 "nbformat": 4,
 "nbformat_minor": 5
}
