{
 "cells": [
  {
   "cell_type": "code",
   "execution_count": 1,
   "id": "eeabbb49",
   "metadata": {},
   "outputs": [],
   "source": [
    "class SinglyLinkedList: \n",
    "    class __Node:\n",
    "        def __init__(self, data):\n",
    "            self.data = data\n",
    "            self.next = None\n",
    "            \n",
    "    def __init__(self):\n",
    "        self.head = None\n",
    "        \n",
    "    def append(self, value):\n",
    "        new_node = self.__Node(value)\n",
    "        if not self.head:\n",
    "            self.head = new_node\n",
    "        else:\n",
    "            current = self.head\n",
    "            while current.next:\n",
    "                current = current.next\n",
    "            current.next = new_node\n",
    "            \n",
    "    def __str__(self):\n",
    "        out = \"[\"\n",
    "        current = self.head\n",
    "        if current:\n",
    "            out += \"%s\" % current.data    #convert something to string and add it\n",
    "            current = current.next\n",
    "            while current:\n",
    "                out += \", %s\" % current.data\n",
    "                current = current.next\n",
    "        out += \"]\"\n",
    "        return out\n",
    "            \n",
    "        \n",
    "    def insert(self, index, value):\n",
    "        if index < 0:\n",
    "            raise ValueError(\"Invalid index\")\n",
    "            \n",
    "        new_node = self.__Node(value)\n",
    "        \n",
    "        if index == 0:\n",
    "            new_node.next = self.head\n",
    "            self.head = new_node\n",
    "        else:        \n",
    "            current = self.head\n",
    "            previous = None\n",
    "            counter = 0\n",
    "\n",
    "            while current and index != counter:\n",
    "                previous = current\n",
    "                current = current.next\n",
    "                counter += 1\n",
    "            \n",
    "        new_node.next = current\n",
    "        previous.next = new_node\n",
    "    \n",
    "    \n",
    "    def remove(self, value):\n",
    "        if not self.head:\n",
    "            raise ValueError(\"List is empty\")\n",
    "        if self.head.data == value:\n",
    "            self.head = self.head.next\n",
    "        else:\n",
    "            current = self.head\n",
    "            previous = None\n",
    "            while current:\n",
    "                if current.data == value:\n",
    "                    previous.next = current.next\n",
    "                else:\n",
    "                    previous = current\n",
    "                    current = current.next\n",
    "        raise ValueError(\"Value not found in the list\")\n",
    "    \n",
    "    def index(self, value):\n",
    "        current = self.head\n",
    "        counter = 0\n",
    "        found = False\n",
    "        if current:\n",
    "            while current and not found:\n",
    "                if current.data == value:\n",
    "                    found = True\n",
    "                    break\n",
    "                counter += 1\n",
    "                current = current.next\n",
    "        if found:\n",
    "            return counter\n",
    "        raise ValueError(\"Value not found\")\n",
    "                "
   ]
  },
  {
   "cell_type": "code",
   "execution_count": 17,
   "id": "5368fffe",
   "metadata": {},
   "outputs": [
    {
     "name": "stdout",
     "output_type": "stream",
     "text": [
      "Empty lists:\n",
      "[]\n",
      "[]\n",
      "List with one element:\n",
      "[1]\n",
      "[1]\n",
      "Lists with more than 1 element:\n",
      "[1, 2, 3, 4]\n",
      "[1, 2, 3, 4]\n"
     ]
    }
   ],
   "source": [
    "sll = SinglyLinkedList()\n",
    "python_list = []\n",
    "\n",
    "print(\"Empty lists:\")\n",
    "print(sll)\n",
    "print(python_list)\n",
    "\n",
    "print(\"List with one element:\")\n",
    "sll.append(1)\n",
    "print(sll)\n",
    "python_list.append(1)\n",
    "print(python_list)\n",
    "\n",
    "print(\"Lists with more than 1 element:\")\n",
    "for number in range(2, 5):\n",
    "    python_list.append(number)\n",
    "    sll.append(number)\n",
    "    \n",
    "print(sll)\n",
    "print(python_list)"
   ]
  },
  {
   "cell_type": "code",
   "execution_count": 2,
   "id": "a4952f09",
   "metadata": {},
   "outputs": [
    {
     "name": "stdout",
     "output_type": "stream",
     "text": [
      "[1, 2, 3]\n",
      "[1, 2]\n",
      "[1, 2, 5]\n"
     ]
    }
   ],
   "source": [
    "testList = [1, 2, 3]\n",
    "print(testList)\n",
    "testList.remove(3)\n",
    "print(testList)\n",
    "testList.insert(5, 5)\n",
    "print(testList)"
   ]
  },
  {
   "cell_type": "code",
   "execution_count": null,
   "id": "98c0bfa0",
   "metadata": {},
   "outputs": [],
   "source": []
  }
 ],
 "metadata": {
  "kernelspec": {
   "display_name": "Python 3 (ipykernel)",
   "language": "python",
   "name": "python3"
  },
  "language_info": {
   "codemirror_mode": {
    "name": "ipython",
    "version": 3
   },
   "file_extension": ".py",
   "mimetype": "text/x-python",
   "name": "python",
   "nbconvert_exporter": "python",
   "pygments_lexer": "ipython3",
   "version": "3.10.6"
  }
 },
 "nbformat": 4,
 "nbformat_minor": 5
}
